{
  "nbformat": 4,
  "nbformat_minor": 0,
  "metadata": {
    "colab": {
      "provenance": []
    },
    "kernelspec": {
      "name": "python3",
      "display_name": "Python 3"
    },
    "language_info": {
      "name": "python"
    }
  },
  "cells": [
    {
      "cell_type": "code",
      "execution_count": 1,
      "metadata": {
        "colab": {
          "base_uri": "https://localhost:8080/"
        },
        "id": "sU7izvgRnf4m",
        "outputId": "b96c623b-5e47-411d-b88b-3049f488b3ab"
      },
      "outputs": [
        {
          "output_type": "stream",
          "name": "stdout",
          "text": [
            "Collecting sumy\n",
            "  Downloading sumy-0.11.0-py2.py3-none-any.whl (97 kB)\n",
            "\u001b[2K     \u001b[90m━━━━━━━━━━━━━━━━━━━━━━━━━━━━━━━━━━━━━━━━\u001b[0m \u001b[32m97.3/97.3 kB\u001b[0m \u001b[31m1.6 MB/s\u001b[0m eta \u001b[36m0:00:00\u001b[0m\n",
            "\u001b[?25hCollecting docopt<0.7,>=0.6.1 (from sumy)\n",
            "  Downloading docopt-0.6.2.tar.gz (25 kB)\n",
            "  Preparing metadata (setup.py) ... \u001b[?25l\u001b[?25hdone\n",
            "Collecting breadability>=0.1.20 (from sumy)\n",
            "  Downloading breadability-0.1.20.tar.gz (32 kB)\n",
            "  Preparing metadata (setup.py) ... \u001b[?25l\u001b[?25hdone\n",
            "Requirement already satisfied: requests>=2.7.0 in /usr/local/lib/python3.10/dist-packages (from sumy) (2.31.0)\n",
            "Collecting pycountry>=18.2.23 (from sumy)\n",
            "  Downloading pycountry-23.12.11-py3-none-any.whl (6.2 MB)\n",
            "\u001b[2K     \u001b[90m━━━━━━━━━━━━━━━━━━━━━━━━━━━━━━━━━━━━━━━━\u001b[0m \u001b[32m6.2/6.2 MB\u001b[0m \u001b[31m41.3 MB/s\u001b[0m eta \u001b[36m0:00:00\u001b[0m\n",
            "\u001b[?25hRequirement already satisfied: nltk>=3.0.2 in /usr/local/lib/python3.10/dist-packages (from sumy) (3.8.1)\n",
            "Requirement already satisfied: chardet in /usr/local/lib/python3.10/dist-packages (from breadability>=0.1.20->sumy) (5.2.0)\n",
            "Requirement already satisfied: lxml>=2.0 in /usr/local/lib/python3.10/dist-packages (from breadability>=0.1.20->sumy) (4.9.4)\n",
            "Requirement already satisfied: click in /usr/local/lib/python3.10/dist-packages (from nltk>=3.0.2->sumy) (8.1.7)\n",
            "Requirement already satisfied: joblib in /usr/local/lib/python3.10/dist-packages (from nltk>=3.0.2->sumy) (1.4.2)\n",
            "Requirement already satisfied: regex>=2021.8.3 in /usr/local/lib/python3.10/dist-packages (from nltk>=3.0.2->sumy) (2023.12.25)\n",
            "Requirement already satisfied: tqdm in /usr/local/lib/python3.10/dist-packages (from nltk>=3.0.2->sumy) (4.66.4)\n",
            "Requirement already satisfied: charset-normalizer<4,>=2 in /usr/local/lib/python3.10/dist-packages (from requests>=2.7.0->sumy) (3.3.2)\n",
            "Requirement already satisfied: idna<4,>=2.5 in /usr/local/lib/python3.10/dist-packages (from requests>=2.7.0->sumy) (3.7)\n",
            "Requirement already satisfied: urllib3<3,>=1.21.1 in /usr/local/lib/python3.10/dist-packages (from requests>=2.7.0->sumy) (2.0.7)\n",
            "Requirement already satisfied: certifi>=2017.4.17 in /usr/local/lib/python3.10/dist-packages (from requests>=2.7.0->sumy) (2024.2.2)\n",
            "Building wheels for collected packages: breadability, docopt\n",
            "  Building wheel for breadability (setup.py) ... \u001b[?25l\u001b[?25hdone\n",
            "  Created wheel for breadability: filename=breadability-0.1.20-py2.py3-none-any.whl size=21693 sha256=adf60f555c98c32979e260facbcdab23ca36026b12e006cccea84a2733a231ae\n",
            "  Stored in directory: /root/.cache/pip/wheels/64/22/90/b84fcc30e16598db20a0d41340616dbf9b1e82bbcc627b0b33\n",
            "  Building wheel for docopt (setup.py) ... \u001b[?25l\u001b[?25hdone\n",
            "  Created wheel for docopt: filename=docopt-0.6.2-py2.py3-none-any.whl size=13706 sha256=09355cb4b91e1f4e0228b1c5b6fa257ef94bf10e0ab7e78f91ad5fc896cb2034\n",
            "  Stored in directory: /root/.cache/pip/wheels/fc/ab/d4/5da2067ac95b36618c629a5f93f809425700506f72c9732fac\n",
            "Successfully built breadability docopt\n",
            "Installing collected packages: docopt, pycountry, breadability, sumy\n",
            "Successfully installed breadability-0.1.20 docopt-0.6.2 pycountry-23.12.11 sumy-0.11.0\n"
          ]
        }
      ],
      "source": [
        "!pip install sumy"
      ]
    },
    {
      "cell_type": "code",
      "source": [
        "import nltk\n",
        "nltk.download('punkt')"
      ],
      "metadata": {
        "colab": {
          "base_uri": "https://localhost:8080/"
        },
        "id": "oqAgcXuPnyGL",
        "outputId": "1a13ee90-d9bd-4609-e7c9-a067cf7be59e"
      },
      "execution_count": 3,
      "outputs": [
        {
          "output_type": "stream",
          "name": "stderr",
          "text": [
            "[nltk_data] Downloading package punkt to /root/nltk_data...\n",
            "[nltk_data]   Unzipping tokenizers/punkt.zip.\n"
          ]
        },
        {
          "output_type": "execute_result",
          "data": {
            "text/plain": [
              "True"
            ]
          },
          "metadata": {},
          "execution_count": 3
        }
      ]
    },
    {
      "cell_type": "markdown",
      "source": [
        "Average length of a token in english is 4 chars. And the context window of t5 and BERT is 512 tokens. so we'll take 480 tokens. Which means that 1920 characters."
      ],
      "metadata": {
        "id": "C9gXe9JorymQ"
      }
    },
    {
      "cell_type": "code",
      "source": [
        "from sumy.parsers.plaintext import PlaintextParser\n",
        "from sumy.nlp.tokenizers import Tokenizer\n",
        "from sumy.summarizers.text_rank import TextRankSummarizer\n",
        "\n",
        "# Example text\n",
        "text = \"\"\"\n",
        "Port-au-Prince, Haiti (CNN) -- So many doctors are answering Haiti\\'s call for medical aid that the largest hospital in Port-au-Prince has a new problem: organizing and finding good use for them all.\\n\\n\\n\\n\\n\\n\"I think there is a lot of confusion,\" said Marivittoria Rava, a longtime volunteer with the charity Friends of the Orphans, which runs a children\\'s hospital caring for some post-operative patients from the general hospital.\\n\\n\\n\\n\\n\\nRava said that medical supplies and resources have improved, but the crush of volunteer doctors in Port-au-Prince can complicate treatment in the city while there is great need for help in other places hit by the earthquake.\\n\\n\\n\\n\\n\\niReport:  Looking for loved ones in Haiti\\n\\n\\n\\n\\n\\nThe general hospital has nine operating rooms, but a near platoo\\\n",
        "n of volunteer surgeons. That leaves many standing by for work, though there are relatively few nurses.\\n\\n\\n\\n\\n\\nCNN\\'s Dr. Sanjay\\\n",
        " Gupta learned medical teams are taking their first steps to organize and see how many of them are needed. Representatives from each\\\n",
        " volunteer doctor group at the general hospital gathered for a quick, to-the-point meeting over the weekend.\\n\\n\\n\\n\\n\\n\"We are all\\\n",
        " well-staffed,\" Dr. Paul Auerbach of Stanford University told the group. \"The issue is coordinating.\"\\n\\n\\n\\n\\n\\nAuerbach is the point person\\\n",
        "  to try and control the surge of doctors. Over the weekend, he and volunteer groups started tackling some basics of treatment: how to ID patients, keep records and\\\n",
        "   make rounds.\\n\\n\\n\\n\\n\\nAmong the problems with the large number of doctors, Auerbach said, is that patients can have their dressings \\\n",
        "   opened three or four times in close succession as one and then another crew of doctors come to evaluate their wounds.\\n\\n\\n\\n\\n\\nTo change\\\n",
        "    that, charity groups have set up shifts and literally drawn lines, sketching maps on hospital walls showing who is working where. They are also\\\n",
        "     identifying medical centers outside Port-au-Prince, where there is need for the booming supply of doctors in the capital.\\n\\n\\n\\n\\n\\nFull coverage\\\n",
        "     \\n\\n\\n\\n\\n\\nSpace is also an issue. A team from the U.S. Army Corps of Engineers is carefully assessing the buildings that survived on hospital grounds\\\n",
        "     , trying to find a stable place for post-operative care. Patients now recover in tents or are taken to other hospitals.\\n\\n\\n\\n\\n\\nAs the city\\'s main\\\n",
        "      hospital is brimming with doctors, it is in need of nurses and physical therapists.\\n\\n\\n\\n\\n\\nThousands of amputees will need significant, specialized help from physical therapists,\\\n",
        "       but few are available.\\n\\n\\n\\n\\n\\nNurses are in short supply. A nursing school on the grounds of the general hospital was crushed in the earthquake, killing some\\\n",
        "        of the people who would be giving care now. The flood of outside volunteers is mostly doctors, not nurses.\\n\\n\\n\\n\\n\\nInteractive map of where to find aid, hospitals in Haiti\\n\\n\\n\\n\\\n",
        "        \\n\\nAt one point over the weekend, a mass of 12 medical workers gathered around a tiny premature infant. Someone called out, \"If you\\'re not a doctor, step away!\" Immediately someone else responded\\\n",
        "        , \"We\\'re all doctors!\"\\n\\n\\n\\n\\n\\nEven as they juggle an abundance of doctors, many volunteers said they worry the general hospital in Port-au-Prince could again face dire need after this first wave of medical staff rotates out of Haiti over the next two weeks.\\n\\n\\n\\n\\n\\nThose on the ground advise doctors who want to help Haiti to wait and volunteer in a few weeks or months.\n",
        "\"\"\"\n",
        "\n",
        "# Initialize the parser\n",
        "parser = PlaintextParser.from_string(text, Tokenizer(\"english\"))\n",
        "\n",
        "# Initialize the TextRank summarizer\n",
        "summarizer = TextRankSummarizer()\n",
        "\n",
        "# Summarize the text\n",
        "summary = summarizer(parser.document, sentences_count=15)  # You can adjust the number of sentences in the summary\n",
        "\n",
        "# Control for the number of characters in the summary\n",
        "max_characters = 1920\n",
        "current_characters = 0\n",
        "final_summary = []\n",
        "\n",
        "for sentence in summary:\n",
        "    if current_characters + len(sentence.__unicode__()) <= max_characters:\n",
        "        final_summary.append(sentence)\n",
        "        current_characters += len(sentence.__unicode__())\n",
        "    else:\n",
        "        break\n",
        "\n",
        "print(\"input: \", text)\n",
        "print(\"summary: \")\n",
        "# Print the summary\n",
        "for sentence in summary:\n",
        "    print(sentence)\n"
      ],
      "metadata": {
        "colab": {
          "base_uri": "https://localhost:8080/"
        },
        "id": "z4IbdNalnjwj",
        "outputId": "f9a6fb2d-e225-4111-8fb4-5a6864335f5c"
      },
      "execution_count": 15,
      "outputs": [
        {
          "output_type": "stream",
          "name": "stdout",
          "text": [
            "input:  \n",
            "Port-au-Prince, Haiti (CNN) -- So many doctors are answering Haiti's call for medical aid that the largest hospital in Port-au-Prince has a new problem: organizing and finding good use for them all.\n",
            "\n",
            "\n",
            "\n",
            "\n",
            "\n",
            "\"I think there is a lot of confusion,\" said Marivittoria Rava, a longtime volunteer with the charity Friends of the Orphans, which runs a children's hospital caring for some post-operative patients from the general hospital.\n",
            "\n",
            "\n",
            "\n",
            "\n",
            "\n",
            "Rava said that medical supplies and resources have improved, but the crush of volunteer doctors in Port-au-Prince can complicate treatment in the city while there is great need for help in other places hit by the earthquake.\n",
            "\n",
            "\n",
            "\n",
            "\n",
            "\n",
            "iReport:  Looking for loved ones in Haiti\n",
            "\n",
            "\n",
            "\n",
            "\n",
            "\n",
            "The general hospital has nine operating rooms, but a near platoon of volunteer surgeons. That leaves many standing by for work, though there are relatively few nurses.\n",
            "\n",
            "\n",
            "\n",
            "\n",
            "\n",
            "CNN's Dr. Sanjay Gupta learned medical teams are taking their first steps to organize and see how many of them are needed. Representatives from each volunteer doctor group at the general hospital gathered for a quick, to-the-point meeting over the weekend.\n",
            "\n",
            "\n",
            "\n",
            "\n",
            "\n",
            "\"We are all well-staffed,\" Dr. Paul Auerbach of Stanford University told the group. \"The issue is coordinating.\"\n",
            "\n",
            "\n",
            "\n",
            "\n",
            "\n",
            "Auerbach is the point person  to try and control the surge of doctors. Over the weekend, he and volunteer groups started tackling some basics of treatment: how to ID patients, keep records and   make rounds.\n",
            "\n",
            "\n",
            "\n",
            "\n",
            "\n",
            "Among the problems with the large number of doctors, Auerbach said, is that patients can have their dressings    opened three or four times in close succession as one and then another crew of doctors come to evaluate their wounds.\n",
            "\n",
            "\n",
            "\n",
            "\n",
            "\n",
            "To change    that, charity groups have set up shifts and literally drawn lines, sketching maps on hospital walls showing who is working where. They are also     identifying medical centers outside Port-au-Prince, where there is need for the booming supply of doctors in the capital.\n",
            "\n",
            "\n",
            "\n",
            "\n",
            "\n",
            "Full coverage     \n",
            "\n",
            "\n",
            "\n",
            "\n",
            "\n",
            "Space is also an issue. A team from the U.S. Army Corps of Engineers is carefully assessing the buildings that survived on hospital grounds     , trying to find a stable place for post-operative care. Patients now recover in tents or are taken to other hospitals.\n",
            "\n",
            "\n",
            "\n",
            "\n",
            "\n",
            "As the city's main      hospital is brimming with doctors, it is in need of nurses and physical therapists.\n",
            "\n",
            "\n",
            "\n",
            "\n",
            "\n",
            "Thousands of amputees will need significant, specialized help from physical therapists,       but few are available.\n",
            "\n",
            "\n",
            "\n",
            "\n",
            "\n",
            "Nurses are in short supply. A nursing school on the grounds of the general hospital was crushed in the earthquake, killing some        of the people who would be giving care now. The flood of outside volunteers is mostly doctors, not nurses.\n",
            "\n",
            "\n",
            "\n",
            "\n",
            "\n",
            "Interactive map of where to find aid, hospitals in Haiti\n",
            "\n",
            "\n",
            "\n",
            "        \n",
            "\n",
            "At one point over the weekend, a mass of 12 medical workers gathered around a tiny premature infant. Someone called out, \"If you're not a doctor, step away!\" Immediately someone else responded        , \"We're all doctors!\"\n",
            "\n",
            "\n",
            "\n",
            "\n",
            "\n",
            "Even as they juggle an abundance of doctors, many volunteers said they worry the general hospital in Port-au-Prince could again face dire need after this first wave of medical staff rotates out of Haiti over the next two weeks.\n",
            "\n",
            "\n",
            "\n",
            "\n",
            "\n",
            "Those on the ground advise doctors who want to help Haiti to wait and volunteer in a few weeks or months. \n",
            "\n",
            "summary: \n",
            "Port-au-Prince, Haiti (CNN) -- So many doctors are answering Haiti's call for medical aid that the largest hospital in Port-au-Prince has a new problem: organizing and finding good use for them all.\n",
            "\"I think there is a lot of confusion,\" said Marivittoria Rava, a longtime volunteer with the charity Friends of the Orphans, which runs a children's hospital caring for some post-operative patients from the general hospital.\n",
            "Rava said that medical supplies and resources have improved, but the crush of volunteer doctors in Port-au-Prince can complicate treatment in the city while there is great need for help in other places hit by the earthquake.\n",
            "Representatives from each volunteer doctor group at the general hospital gathered for a quick, to-the-point meeting over the weekend.\n",
            "Auerbach is the point person  to try and control the surge of doctors.\n",
            "Over the weekend, he and volunteer groups started tackling some basics of treatment: how to ID patients, keep records and   make rounds.\n",
            "Among the problems with the large number of doctors, Auerbach said, is that patients can have their dressings    opened three or four times in close succession as one and then another crew of doctors come to evaluate their wounds.\n",
            "They are also     identifying medical centers outside Port-au-Prince, where there is need for the booming supply of doctors in the capital.\n",
            "Full coverage\n",
            "A team from the U.S. Army Corps of Engineers is carefully assessing the buildings that survived on hospital grounds     , trying to find a stable place for post-operative care.\n",
            "As the city's main      hospital is brimming with doctors, it is in need of nurses and physical therapists.\n",
            "A nursing school on the grounds of the general hospital was crushed in the earthquake, killing some        of the people who would be giving care now.\n",
            "At one point over the weekend, a mass of 12 medical workers gathered around a tiny premature infant.\n",
            "Even as they juggle an abundance of doctors, many volunteers said they worry the general hospital in Port-au-Prince could again face dire need after this first wave of medical staff rotates out of Haiti over the next two weeks.\n",
            "Those on the ground advise doctors who want to help Haiti to wait and volunteer in a few weeks or months.\n"
          ]
        }
      ]
    },
    {
      "cell_type": "code",
      "source": [],
      "metadata": {
        "id": "-WdPg5fDp8kZ"
      },
      "execution_count": null,
      "outputs": []
    }
  ]
}